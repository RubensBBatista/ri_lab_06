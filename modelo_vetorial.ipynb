{
 "cells": [
  {
   "cell_type": "markdown",
   "metadata": {
    "colab_type": "text",
    "id": "view-in-github"
   },
   "source": [
    "<a href=\"https://colab.research.google.com/github/RubensBBatista/ri_labs/blob/master/lab06/modelo_vetorial.ipynb\" target=\"_parent\"><img src=\"https://colab.research.google.com/assets/colab-badge.svg\" alt=\"Open In Colab\"/></a>"
   ]
  },
  {
   "cell_type": "code",
   "execution_count": 100,
   "metadata": {
    "colab": {
     "base_uri": "https://localhost:8080/",
     "height": 51
    },
    "colab_type": "code",
    "id": "eVLJ-zUhxSqr",
    "outputId": "bc271ad8-a8b1-4aca-acb0-75e6a645f33c"
   },
   "outputs": [
    {
     "name": "stderr",
     "output_type": "stream",
     "text": [
      "[nltk_data] Downloading package stopwords to\n",
      "[nltk_data]     C:\\Users\\rubens.sousa\\AppData\\Roaming\\nltk_data...\n",
      "[nltk_data]   Package stopwords is already up-to-date!\n"
     ]
    }
   ],
   "source": [
    "import pandas as pnd\n",
    "import numpy as nump\n",
    "import nltk\n",
    "import re\n",
    "import collections\n",
    "import bisect\n",
    "from nltk.tokenize import RegexpTokenizer\n",
    "\n",
    "nltk.download('stopwords')\n",
    "resultado = pnd.read_csv('results.csv')"
   ]
  },
  {
   "cell_type": "markdown",
   "metadata": {
    "colab_type": "text",
    "id": "mHwushaYy_ZA"
   },
   "source": [
    "## 1. Reconstruir o índice considerando o conjunto de dados que indicamos. Esses são os dados coletados por Bernardi e os estaremos usando para facilitar a correção da atividade. Se você já estiver usando esses dados não precisa reconstruir o índice;"
   ]
  },
  {
   "cell_type": "code",
   "execution_count": 101,
   "metadata": {
    "colab": {},
    "colab_type": "code",
    "id": "ZCiNa0fv0FPD"
   },
   "outputs": [],
   "source": [
    "tokniz = RegexpTokenizer(r'([A-Za-zÁáÉéÍíÓóÚúÃãÕõÇçÂâÊê]{3,27})')\n",
    "indices = {}\n",
    "n = 0\n",
    "stopw = nltk.corpus.stopwords.words('portuguese') \n",
    "\n",
    "for texto in resultado.text:\n",
    "  palavras = [palavra for palavra in tokniz.tokenize(texto.lower())\n",
    "           if not bool(re.search(r'\\d', palavra))\n",
    "           and palavra not in stopw and len(palavra) >= 3]  \n",
    "  n += 1\n",
    "  for t in palavras:\n",
    "    if t not in indices.keys():\n",
    "      indices[t] = []\n",
    "    indices[t].append(n)\n",
    "    \n",
    "for elemento in indices.items():\n",
    "  dic = dict(collections.Counter(elemento[1]))\n",
    "  indices[elemento[0]] = list(dic.items())"
   ]
  },
  {
   "cell_type": "code",
   "execution_count": 102,
   "metadata": {
    "colab": {
     "base_uri": "https://localhost:8080/",
     "height": 359
    },
    "colab_type": "code",
    "id": "_1msrH6Cvzc2",
    "outputId": "3c069b70-4919-4e27-d351-1a3815257336"
   },
   "outputs": [
    {
     "data": {
      "text/html": [
       "<div>\n",
       "<style scoped>\n",
       "    .dataframe tbody tr th:only-of-type {\n",
       "        vertical-align: middle;\n",
       "    }\n",
       "\n",
       "    .dataframe tbody tr th {\n",
       "        vertical-align: top;\n",
       "    }\n",
       "\n",
       "    .dataframe thead th {\n",
       "        text-align: right;\n",
       "    }\n",
       "</style>\n",
       "<table border=\"1\" class=\"dataframe\">\n",
       "  <thead>\n",
       "    <tr style=\"text-align: right;\">\n",
       "      <th></th>\n",
       "      <th>Palavra</th>\n",
       "      <th>Documentos e Frequencias</th>\n",
       "    </tr>\n",
       "  </thead>\n",
       "  <tbody>\n",
       "    <tr>\n",
       "      <th>0</th>\n",
       "      <td>juíza</td>\n",
       "      <td>[(1, 2), (2, 1)]</td>\n",
       "    </tr>\n",
       "    <tr>\n",
       "      <th>1</th>\n",
       "      <td>federal</td>\n",
       "      <td>[(1, 2), (2, 2), (3, 1), (6, 1), (7, 3), (15, ...</td>\n",
       "    </tr>\n",
       "    <tr>\n",
       "      <th>2</th>\n",
       "      <td>ivani</td>\n",
       "      <td>[(1, 1), (2, 1)]</td>\n",
       "    </tr>\n",
       "    <tr>\n",
       "      <th>3</th>\n",
       "      <td>silva</td>\n",
       "      <td>[(1, 3), (2, 1), (6, 1), (14, 2), (26, 1), (73...</td>\n",
       "    </tr>\n",
       "    <tr>\n",
       "      <th>4</th>\n",
       "      <td>luz</td>\n",
       "      <td>[(1, 3), (2, 1), (9, 1), (17, 1), (32, 2), (78...</td>\n",
       "    </tr>\n",
       "    <tr>\n",
       "      <th>5</th>\n",
       "      <td>brasília</td>\n",
       "      <td>[(1, 1), (8, 1), (33, 1), (35, 1), (44, 1), (4...</td>\n",
       "    </tr>\n",
       "    <tr>\n",
       "      <th>6</th>\n",
       "      <td>proibiu</td>\n",
       "      <td>[(1, 1), (2, 1), (119, 1), (162, 1)]</td>\n",
       "    </tr>\n",
       "    <tr>\n",
       "      <th>7</th>\n",
       "      <td>caráter</td>\n",
       "      <td>[(1, 1), (15, 1), (36, 1), (60, 1), (89, 1), (...</td>\n",
       "    </tr>\n",
       "    <tr>\n",
       "      <th>8</th>\n",
       "      <td>liminar</td>\n",
       "      <td>[(1, 1), (2, 3), (119, 1), (217, 1)]</td>\n",
       "    </tr>\n",
       "    <tr>\n",
       "      <th>9</th>\n",
       "      <td>nesta</td>\n",
       "      <td>[(1, 2), (3, 1), (4, 1), (8, 1), (21, 1), (22,...</td>\n",
       "    </tr>\n",
       "  </tbody>\n",
       "</table>\n",
       "</div>"
      ],
      "text/plain": [
       "    Palavra                           Documentos e Frequencias\n",
       "0     juíza                                   [(1, 2), (2, 1)]\n",
       "1   federal  [(1, 2), (2, 2), (3, 1), (6, 1), (7, 3), (15, ...\n",
       "2     ivani                                   [(1, 1), (2, 1)]\n",
       "3     silva  [(1, 3), (2, 1), (6, 1), (14, 2), (26, 1), (73...\n",
       "4       luz  [(1, 3), (2, 1), (9, 1), (17, 1), (32, 2), (78...\n",
       "5  brasília  [(1, 1), (8, 1), (33, 1), (35, 1), (44, 1), (4...\n",
       "6   proibiu               [(1, 1), (2, 1), (119, 1), (162, 1)]\n",
       "7   caráter  [(1, 1), (15, 1), (36, 1), (60, 1), (89, 1), (...\n",
       "8   liminar               [(1, 1), (2, 3), (119, 1), (217, 1)]\n",
       "9     nesta  [(1, 2), (3, 1), (4, 1), (8, 1), (21, 1), (22,..."
      ]
     },
     "execution_count": 102,
     "metadata": {},
     "output_type": "execute_result"
    }
   ],
   "source": [
    "indices_dfr = pnd.DataFrame()\n",
    "indices_dfr['Palavra'] = indices.keys()\n",
    "indices_dfr['Documentos e Frequencias'] = indices.values()\n",
    "indices_dfr.head(10)"
   ]
  },
  {
   "cell_type": "markdown",
   "metadata": {
    "colab_type": "text",
    "id": "JmoY9DpLzD6p"
   },
   "source": [
    "## 2. Refinar o índice invertido de forma a também incluir o IDF (inverse document frequency) de cada termo do dicionário; "
   ]
  },
  {
   "cell_type": "code",
   "execution_count": 103,
   "metadata": {
    "colab": {},
    "colab_type": "code",
    "id": "-c75HorM7nWr"
   },
   "outputs": [],
   "source": [
    "M = resultado.text.count()\n",
    "for palavra in indices:\n",
    "  k = len(indices[palavra])\n",
    "  aux = nump.log((M+1)/k)\n",
    "  IDF = round(aux,2)\n",
    "  indices[palavra].append(IDF)"
   ]
  },
  {
   "cell_type": "code",
   "execution_count": 104,
   "metadata": {
    "colab": {
     "base_uri": "https://localhost:8080/",
     "height": 359
    },
    "colab_type": "code",
    "id": "4ks-wKGMwYo5",
    "outputId": "57f7e092-3965-4db1-b7e0-498eba4c48b0"
   },
   "outputs": [
    {
     "data": {
      "text/html": [
       "<div>\n",
       "<style scoped>\n",
       "    .dataframe tbody tr th:only-of-type {\n",
       "        vertical-align: middle;\n",
       "    }\n",
       "\n",
       "    .dataframe tbody tr th {\n",
       "        vertical-align: top;\n",
       "    }\n",
       "\n",
       "    .dataframe thead th {\n",
       "        text-align: right;\n",
       "    }\n",
       "</style>\n",
       "<table border=\"1\" class=\"dataframe\">\n",
       "  <thead>\n",
       "    <tr style=\"text-align: right;\">\n",
       "      <th></th>\n",
       "      <th>Palavra</th>\n",
       "      <th>Documentos e Frequencias</th>\n",
       "      <th>IDF</th>\n",
       "    </tr>\n",
       "  </thead>\n",
       "  <tbody>\n",
       "    <tr>\n",
       "      <th>0</th>\n",
       "      <td>juíza</td>\n",
       "      <td>[(1, 2), (2, 1), 4.83]</td>\n",
       "      <td>4.83</td>\n",
       "    </tr>\n",
       "    <tr>\n",
       "      <th>1</th>\n",
       "      <td>federal</td>\n",
       "      <td>[(1, 2), (2, 2), (3, 1), (6, 1), (7, 3), (15, ...</td>\n",
       "      <td>1.63</td>\n",
       "    </tr>\n",
       "    <tr>\n",
       "      <th>2</th>\n",
       "      <td>ivani</td>\n",
       "      <td>[(1, 1), (2, 1), 4.83]</td>\n",
       "      <td>4.83</td>\n",
       "    </tr>\n",
       "    <tr>\n",
       "      <th>3</th>\n",
       "      <td>silva</td>\n",
       "      <td>[(1, 3), (2, 1), (6, 1), (14, 2), (26, 1), (73...</td>\n",
       "      <td>3.04</td>\n",
       "    </tr>\n",
       "    <tr>\n",
       "      <th>4</th>\n",
       "      <td>luz</td>\n",
       "      <td>[(1, 3), (2, 1), (9, 1), (17, 1), (32, 2), (78...</td>\n",
       "      <td>2.53</td>\n",
       "    </tr>\n",
       "    <tr>\n",
       "      <th>5</th>\n",
       "      <td>brasília</td>\n",
       "      <td>[(1, 1), (8, 1), (33, 1), (35, 1), (44, 1), (4...</td>\n",
       "      <td>2.19</td>\n",
       "    </tr>\n",
       "    <tr>\n",
       "      <th>6</th>\n",
       "      <td>proibiu</td>\n",
       "      <td>[(1, 1), (2, 1), (119, 1), (162, 1), 4.14]</td>\n",
       "      <td>4.14</td>\n",
       "    </tr>\n",
       "    <tr>\n",
       "      <th>7</th>\n",
       "      <td>caráter</td>\n",
       "      <td>[(1, 1), (15, 1), (36, 1), (60, 1), (89, 1), (...</td>\n",
       "      <td>3.22</td>\n",
       "    </tr>\n",
       "    <tr>\n",
       "      <th>8</th>\n",
       "      <td>liminar</td>\n",
       "      <td>[(1, 1), (2, 3), (119, 1), (217, 1), 4.14]</td>\n",
       "      <td>4.14</td>\n",
       "    </tr>\n",
       "    <tr>\n",
       "      <th>9</th>\n",
       "      <td>nesta</td>\n",
       "      <td>[(1, 2), (3, 1), (4, 1), (8, 1), (21, 1), (22,...</td>\n",
       "      <td>0.91</td>\n",
       "    </tr>\n",
       "  </tbody>\n",
       "</table>\n",
       "</div>"
      ],
      "text/plain": [
       "    Palavra                           Documentos e Frequencias   IDF\n",
       "0     juíza                             [(1, 2), (2, 1), 4.83]  4.83\n",
       "1   federal  [(1, 2), (2, 2), (3, 1), (6, 1), (7, 3), (15, ...  1.63\n",
       "2     ivani                             [(1, 1), (2, 1), 4.83]  4.83\n",
       "3     silva  [(1, 3), (2, 1), (6, 1), (14, 2), (26, 1), (73...  3.04\n",
       "4       luz  [(1, 3), (2, 1), (9, 1), (17, 1), (32, 2), (78...  2.53\n",
       "5  brasília  [(1, 1), (8, 1), (33, 1), (35, 1), (44, 1), (4...  2.19\n",
       "6   proibiu         [(1, 1), (2, 1), (119, 1), (162, 1), 4.14]  4.14\n",
       "7   caráter  [(1, 1), (15, 1), (36, 1), (60, 1), (89, 1), (...  3.22\n",
       "8   liminar         [(1, 1), (2, 3), (119, 1), (217, 1), 4.14]  4.14\n",
       "9     nesta  [(1, 2), (3, 1), (4, 1), (8, 1), (21, 1), (22,...  0.91"
      ]
     },
     "execution_count": 104,
     "metadata": {},
     "output_type": "execute_result"
    }
   ],
   "source": [
    "idf = []\n",
    "for index in indices.values():\n",
    "  idf.append(index[-1])\n",
    "indices_dfr['IDF'] = idf\n",
    "\n",
    "indices_dfr.head(10)"
   ]
  },
  {
   "cell_type": "markdown",
   "metadata": {
    "colab_type": "text",
    "id": "jlJYUt9WzIOm"
   },
   "source": [
    "## 3. Implementar as seguintes versões do modelo vetorial:"
   ]
  },
  {
   "cell_type": "markdown",
   "metadata": {
    "colab_type": "text",
    "id": "mA1z8120zKKj"
   },
   "source": [
    "### 3.1. Representação binária"
   ]
  },
  {
   "cell_type": "code",
   "execution_count": 105,
   "metadata": {
    "colab": {},
    "colab_type": "code",
    "id": "iQHcDGgFDjHF"
   },
   "outputs": [],
   "source": [
    "def vm_binario(consulta, documento):\n",
    "  pontos = 0\n",
    "  tokens_consulta = consulta.split()\n",
    "  documentos_consulta = documento.split()\n",
    "  \n",
    "  for token in tokens_consulta:\n",
    "    pontos += (token in documentos_consulta)\n",
    "    \n",
    "  return pontos"
   ]
  },
  {
   "cell_type": "markdown",
   "metadata": {
    "colab_type": "text",
    "id": "x-X_wc5UzTUg"
   },
   "source": [
    "### 3.2. TF (lembre-se que esse modelo já está implementado)"
   ]
  },
  {
   "cell_type": "code",
   "execution_count": 106,
   "metadata": {
    "colab": {},
    "colab_type": "code",
    "id": "yPUnugdpFed_"
   },
   "outputs": [],
   "source": [
    "def vm_tf(consulta, documento):\n",
    "  pontos = 0\n",
    "  documentos_consulta = documento.split()\n",
    "  tokens_consulta = consulta.split()\n",
    "  \n",
    "  for word in tokens_consulta:\n",
    "    pontos += documentos_consulta.count(word)\n",
    "  \n",
    "  return pontos"
   ]
  },
  {
   "cell_type": "markdown",
   "metadata": {
    "colab_type": "text",
    "id": "L_X2htKDzWO7"
   },
   "source": [
    "### 3.3 TF-IDF"
   ]
  },
  {
   "cell_type": "code",
   "execution_count": 107,
   "metadata": {
    "colab": {},
    "colab_type": "code",
    "id": "8pv4YH8QI4FW"
   },
   "outputs": [],
   "source": [
    "def vm_tf_idf(consulta, documento):\n",
    "  pontos = 0\n",
    "  token_documentos = documento.split()\n",
    "  consulta_tokens = consulta.split()\n",
    "  \n",
    "  for palavra in consulta_tokens:\n",
    "    cwd = token_documentos.count(palavra)\n",
    "    if palavra in indices:\n",
    "      pontos += cwd * indices[palavra][-1]\n",
    "  \n",
    "  return round(pontos,2)"
   ]
  },
  {
   "cell_type": "markdown",
   "metadata": {
    "colab_type": "text",
    "id": "bYA7I-MJzY1n"
   },
   "source": [
    "### 3.4 BM25 (não usaremos Okapi já que os documentos não tem grande variação de tamanho)"
   ]
  },
  {
   "cell_type": "code",
   "execution_count": 108,
   "metadata": {
    "colab": {},
    "colab_type": "code",
    "id": "f7i7Vi7AMb9n"
   },
   "outputs": [],
   "source": [
    "def vm_bm25(consulta, documento, k):\n",
    "  pontos = 0\n",
    "  documento_tokens = documento.split()\n",
    "  consulta_tokens = consulta.split()\n",
    "  \n",
    "  palavras = [palavra for palavra in consulta_tokens if palavra in documento_tokens]\n",
    "    \n",
    "  for palavra in palavras:\n",
    "    cwd = documento_tokens.count(palavra)\n",
    "    dfw = 0\n",
    "    if palavra in indices:\n",
    "      dfw = len(indices[palavra][:-1])\n",
    "    pontos += (((k+1) * cwd) / (cwd + k)) * nump.log10(((M+1) / dfw)) if dfw != 0 else 0\n",
    "  \n",
    "  return round(pontos,2)"
   ]
  },
  {
   "cell_type": "markdown",
   "metadata": {
    "colab_type": "text",
    "id": "xT_PZLyjziCw"
   },
   "source": [
    "## 4. Execute os algoritmos separadamente em 3 consultas de sua escolha e retorne os top-5 documentos mais similares à cada consulta;"
   ]
  },
  {
   "cell_type": "code",
   "execution_count": 109,
   "metadata": {
    "colab": {},
    "colab_type": "code",
    "id": "_gyPciv8TWB1"
   },
   "outputs": [],
   "source": [
    "consultas = ['economia', 'neymar', 'bolsonaro']"
   ]
  },
  {
   "cell_type": "code",
   "execution_count": 110,
   "metadata": {
    "colab": {},
    "colab_type": "code",
    "id": "8biPwliZRynU"
   },
   "outputs": [],
   "source": [
    "def top5_modelos(consulta):\n",
    "  n = 0\n",
    "  d_b = []\n",
    "  d_tf = []\n",
    "  d_tf_idf = []\n",
    "  d_bm25 = []\n",
    "  for documento in resultado.text:\n",
    "    documento = documento.lower()\n",
    "    n += 1\n",
    "    bisect.insort(d_b, (vm_binario(consulta, documento), n))\n",
    "    bisect.insort(d_tf, (vm_tf(consulta,documento), n))\n",
    "    bisect.insort(d_tf_idf, (vm_tf_idf(consulta,documento), n))\n",
    "    bisect.insort(d_bm25, (vm_bm25(consulta,documento,20), n))\n",
    "  \n",
    "  d_b.reverse()\n",
    "  d_tf.reverse()\n",
    "  d_tf_idf.reverse()\n",
    "  d_bm25.reverse()\n",
    "  \n",
    "  return d_b[:5], d_tf[:5], d_tf_idf[:5], d_bm25[:5]"
   ]
  },
  {
   "cell_type": "code",
   "execution_count": 111,
   "metadata": {
    "colab": {},
    "colab_type": "code",
    "id": "ctCq5oudxbq_"
   },
   "outputs": [],
   "source": [
    "top5_binario = ['','','']\n",
    "top5_tf = ['','','']\n",
    "top5_tfidf = ['','','']\n",
    "top5_bm25 = ['','','']\n",
    "\n",
    "top5_binario[0], top5_tf[0], top5_tfidf[0], top5_bm25[0] = top5_modelos(consultas[0])\n",
    "top5_binario[1], top5_tf[1], top5_tfidf[1], top5_bm25[1] = top5_modelos(consultas[1])\n",
    "top5_binario[2], top5_tf[2], top5_tfidf[2], top5_bm25[2] = top5_modelos(consultas[2])"
   ]
  },
  {
   "cell_type": "code",
   "execution_count": 112,
   "metadata": {
    "colab": {
     "base_uri": "https://localhost:8080/",
     "height": 193
    },
    "colab_type": "code",
    "id": "uvp_il8XzhPT",
    "outputId": "e35372a6-1ec9-4415-f13f-13abc530d690"
   },
   "outputs": [
    {
     "data": {
      "text/html": [
       "<div>\n",
       "<style scoped>\n",
       "    .dataframe tbody tr th:only-of-type {\n",
       "        vertical-align: middle;\n",
       "    }\n",
       "\n",
       "    .dataframe tbody tr th {\n",
       "        vertical-align: top;\n",
       "    }\n",
       "\n",
       "    .dataframe thead th {\n",
       "        text-align: right;\n",
       "    }\n",
       "</style>\n",
       "<table border=\"1\" class=\"dataframe\">\n",
       "  <thead>\n",
       "    <tr style=\"text-align: right;\">\n",
       "      <th></th>\n",
       "      <th>Consulta</th>\n",
       "      <th>Binario</th>\n",
       "      <th>TF</th>\n",
       "      <th>TF-IDF</th>\n",
       "      <th>BM25</th>\n",
       "    </tr>\n",
       "  </thead>\n",
       "  <tbody>\n",
       "    <tr>\n",
       "      <th>1</th>\n",
       "      <td>economia</td>\n",
       "      <td>[(1, 248), (1, 240), (1, 236), (1, 235), (1, 2...</td>\n",
       "      <td>[(7, 138), (7, 125), (6, 34), (5, 127), (4, 26)]</td>\n",
       "      <td>[(11.41, 138), (11.41, 125), (9.78, 34), (8.15...</td>\n",
       "      <td>[(3.85, 138), (3.85, 125), (3.43, 34), (2.97, ...</td>\n",
       "    </tr>\n",
       "    <tr>\n",
       "      <th>2</th>\n",
       "      <td>neymar</td>\n",
       "      <td>[(1, 121), (1, 74), (1, 45), (0, 249), (0, 248)]</td>\n",
       "      <td>[(2, 121), (1, 74), (1, 45), (0, 249), (0, 248)]</td>\n",
       "      <td>[(8.84, 121), (4.42, 74), (4.42, 45), (0.0, 24...</td>\n",
       "      <td>[(3.67, 121), (1.92, 74), (1.92, 45), (0, 249)...</td>\n",
       "    </tr>\n",
       "    <tr>\n",
       "      <th>3</th>\n",
       "      <td>bolsonaro</td>\n",
       "      <td>[(1, 248), (1, 240), (1, 238), (1, 237), (1, 2...</td>\n",
       "      <td>[(32, 151), (30, 207), (30, 166), (19, 19), (1...</td>\n",
       "      <td>[(42.24, 151), (39.6, 207), (39.6, 166), (25.0...</td>\n",
       "      <td>[(7.39, 151), (7.21, 207), (7.21, 166), (5.85,...</td>\n",
       "    </tr>\n",
       "  </tbody>\n",
       "</table>\n",
       "</div>"
      ],
      "text/plain": [
       "    Consulta                                            Binario  \\\n",
       "1   economia  [(1, 248), (1, 240), (1, 236), (1, 235), (1, 2...   \n",
       "2     neymar   [(1, 121), (1, 74), (1, 45), (0, 249), (0, 248)]   \n",
       "3  bolsonaro  [(1, 248), (1, 240), (1, 238), (1, 237), (1, 2...   \n",
       "\n",
       "                                                  TF  \\\n",
       "1   [(7, 138), (7, 125), (6, 34), (5, 127), (4, 26)]   \n",
       "2   [(2, 121), (1, 74), (1, 45), (0, 249), (0, 248)]   \n",
       "3  [(32, 151), (30, 207), (30, 166), (19, 19), (1...   \n",
       "\n",
       "                                              TF-IDF  \\\n",
       "1  [(11.41, 138), (11.41, 125), (9.78, 34), (8.15...   \n",
       "2  [(8.84, 121), (4.42, 74), (4.42, 45), (0.0, 24...   \n",
       "3  [(42.24, 151), (39.6, 207), (39.6, 166), (25.0...   \n",
       "\n",
       "                                                BM25  \n",
       "1  [(3.85, 138), (3.85, 125), (3.43, 34), (2.97, ...  \n",
       "2  [(3.67, 121), (1.92, 74), (1.92, 45), (0, 249)...  \n",
       "3  [(7.39, 151), (7.21, 207), (7.21, 166), (5.85,...  "
      ]
     },
     "execution_count": 112,
     "metadata": {},
     "output_type": "execute_result"
    }
   ],
   "source": [
    "consulta_df = pnd.DataFrame()\n",
    "\n",
    "consulta_df['Consulta'] = consultas\n",
    "consulta_df['Binario'] = top5_binario\n",
    "consulta_df['TF'] = top5_tf\n",
    "consulta_df['TF-IDF'] = top5_tfidf\n",
    "consulta_df['BM25'] = top5_bm25\n",
    "\n",
    "consulta_df.index+=1\n",
    "consulta_df"
   ]
  },
  {
   "cell_type": "markdown",
   "metadata": {
    "colab_type": "text",
    "id": "lboQt7Z0zn6Q"
   },
   "source": [
    "## 5. Compare os resultados encontrados e responda."
   ]
  },
  {
   "cell_type": "markdown",
   "metadata": {
    "colab_type": "text",
    "id": "eL1Qj_tizpkS"
   },
   "source": [
    "### 5.1. Quais modelos você acha que trouxe os melhores resultados? Por que? Inspecione os documentos retornados para melhor embasar sua resposta."
   ]
  },
  {
   "cell_type": "code",
   "execution_count": 113,
   "metadata": {
    "colab": {},
    "colab_type": "code",
    "id": "6Otvp79zy3If"
   },
   "outputs": [],
   "source": [
    "def get_pontuacao_top1(top5):\n",
    "  return [top[0][0] for top in top5]\n",
    "\n",
    "def get_documento_top1(top5):\n",
    "  return [top[0][1] for top in top5]\n",
    "\n",
    "def get_titulo_documento(docs):\n",
    "  return [resultado.title[doc] for doc in docs]"
   ]
  },
  {
   "cell_type": "code",
   "execution_count": 114,
   "metadata": {
    "colab": {},
    "colab_type": "code",
    "id": "FMVAICHwxjye"
   },
   "outputs": [],
   "source": [
    "pontuacao_binario_top5 = get_pontuacao_top1(top5_binario)\n",
    "pontuacao_tf_top5 = get_pontuacao_top1(top5_tf)\n",
    "pontuacao_tf_idf_top5 = get_pontuacao_top1(top5_tfidf)\n",
    "pontuacao_bm25_top5 = get_pontuacao_top1(top5_bm25)\n",
    "\n",
    "documento_top5_binario = get_documento_top1(top5_binario)\n",
    "documento_top5_tf = get_documento_top1(top5_tf)\n",
    "documento_top5_tf_idf = get_documento_top1(top5_tfidf)\n",
    "documento_top5_bm25 = get_documento_top1(top5_bm25)\n",
    "\n",
    "titulos_binario = get_titulo_documento(documento_top5_binario)\n",
    "titulos_tf = get_titulo_documento(documento_top5_tf)\n",
    "titulos_tf_idf = get_titulo_documento(documento_top5_tf_idf)\n",
    "titulos_bm25 = get_titulo_documento(documento_top5_bm25)"
   ]
  },
  {
   "cell_type": "markdown",
   "metadata": {
    "colab_type": "text",
    "id": "UcMpfM_L5-7I"
   },
   "source": [
    "#### Representação Binária"
   ]
  },
  {
   "cell_type": "code",
   "execution_count": 115,
   "metadata": {
    "colab": {
     "base_uri": "https://localhost:8080/",
     "height": 142
    },
    "colab_type": "code",
    "id": "N7-z8vMvydAX",
    "outputId": "20a348dd-299d-4643-eb04-15e9cbe19701"
   },
   "outputs": [
    {
     "data": {
      "text/html": [
       "<div>\n",
       "<style scoped>\n",
       "    .dataframe tbody tr th:only-of-type {\n",
       "        vertical-align: middle;\n",
       "    }\n",
       "\n",
       "    .dataframe tbody tr th {\n",
       "        vertical-align: top;\n",
       "    }\n",
       "\n",
       "    .dataframe thead th {\n",
       "        text-align: right;\n",
       "    }\n",
       "</style>\n",
       "<table border=\"1\" class=\"dataframe\">\n",
       "  <thead>\n",
       "    <tr style=\"text-align: right;\">\n",
       "      <th></th>\n",
       "      <th>Consulta</th>\n",
       "      <th>Documento</th>\n",
       "      <th>Titulo Documento</th>\n",
       "      <th>Pontuacao Binaria</th>\n",
       "    </tr>\n",
       "  </thead>\n",
       "  <tbody>\n",
       "    <tr>\n",
       "      <th>1</th>\n",
       "      <td>economia</td>\n",
       "      <td>248</td>\n",
       "      <td>As três espanholas do Estado Islâmico: “Só que...</td>\n",
       "      <td>1</td>\n",
       "    </tr>\n",
       "    <tr>\n",
       "      <th>2</th>\n",
       "      <td>neymar</td>\n",
       "      <td>121</td>\n",
       "      <td>“Bonucci diz o que muita gente pensa: os negro...</td>\n",
       "      <td>1</td>\n",
       "    </tr>\n",
       "    <tr>\n",
       "      <th>3</th>\n",
       "      <td>bolsonaro</td>\n",
       "      <td>248</td>\n",
       "      <td>As três espanholas do Estado Islâmico: “Só que...</td>\n",
       "      <td>1</td>\n",
       "    </tr>\n",
       "  </tbody>\n",
       "</table>\n",
       "</div>"
      ],
      "text/plain": [
       "    Consulta  Documento                                   Titulo Documento  \\\n",
       "1   economia        248  As três espanholas do Estado Islâmico: “Só que...   \n",
       "2     neymar        121  “Bonucci diz o que muita gente pensa: os negro...   \n",
       "3  bolsonaro        248  As três espanholas do Estado Islâmico: “Só que...   \n",
       "\n",
       "   Pontuacao Binaria  \n",
       "1                  1  \n",
       "2                  1  \n",
       "3                  1  "
      ]
     },
     "execution_count": 115,
     "metadata": {},
     "output_type": "execute_result"
    }
   ],
   "source": [
    "rep_binaria = pnd.DataFrame()\n",
    "rep_binaria['Consulta'] = consultas\n",
    "rep_binaria['Documento'] = documento_top5_binario\n",
    "rep_binaria['Titulo Documento'] = titulos_binario\n",
    "rep_binaria['Pontuacao Binaria'] = pontuacao_binario_top5\n",
    "\n",
    "rep_binaria.index += 1\n",
    "rep_binaria"
   ]
  },
  {
   "cell_type": "markdown",
   "metadata": {
    "colab_type": "text",
    "id": "WdFHmr7X6DdQ"
   },
   "source": [
    "#### TF"
   ]
  },
  {
   "cell_type": "code",
   "execution_count": 116,
   "metadata": {
    "colab": {
     "base_uri": "https://localhost:8080/",
     "height": 142
    },
    "colab_type": "code",
    "id": "ghrjh9Xz2LO3",
    "outputId": "522dd064-4255-4eaf-a5f3-adde5eed4779"
   },
   "outputs": [
    {
     "data": {
      "text/html": [
       "<div>\n",
       "<style scoped>\n",
       "    .dataframe tbody tr th:only-of-type {\n",
       "        vertical-align: middle;\n",
       "    }\n",
       "\n",
       "    .dataframe tbody tr th {\n",
       "        vertical-align: top;\n",
       "    }\n",
       "\n",
       "    .dataframe thead th {\n",
       "        text-align: right;\n",
       "    }\n",
       "</style>\n",
       "<table border=\"1\" class=\"dataframe\">\n",
       "  <thead>\n",
       "    <tr style=\"text-align: right;\">\n",
       "      <th></th>\n",
       "      <th>Consulta</th>\n",
       "      <th>Documento</th>\n",
       "      <th>Titulo Documento</th>\n",
       "      <th>TF Pontuacao</th>\n",
       "    </tr>\n",
       "  </thead>\n",
       "  <tbody>\n",
       "    <tr>\n",
       "      <th>1</th>\n",
       "      <td>economia</td>\n",
       "      <td>138</td>\n",
       "      <td>Estatal espanhola fica com aeroportos do Norde...</td>\n",
       "      <td>7</td>\n",
       "    </tr>\n",
       "    <tr>\n",
       "      <th>2</th>\n",
       "      <td>neymar</td>\n",
       "      <td>121</td>\n",
       "      <td>“Bonucci diz o que muita gente pensa: os negro...</td>\n",
       "      <td>2</td>\n",
       "    </tr>\n",
       "    <tr>\n",
       "      <th>3</th>\n",
       "      <td>bolsonaro</td>\n",
       "      <td>151</td>\n",
       "      <td>Socialismo ‘millennial’ nos EUA</td>\n",
       "      <td>32</td>\n",
       "    </tr>\n",
       "  </tbody>\n",
       "</table>\n",
       "</div>"
      ],
      "text/plain": [
       "    Consulta  Documento                                   Titulo Documento  \\\n",
       "1   economia        138  Estatal espanhola fica com aeroportos do Norde...   \n",
       "2     neymar        121  “Bonucci diz o que muita gente pensa: os negro...   \n",
       "3  bolsonaro        151                    Socialismo ‘millennial’ nos EUA   \n",
       "\n",
       "   TF Pontuacao  \n",
       "1             7  \n",
       "2             2  \n",
       "3            32  "
      ]
     },
     "execution_count": 116,
     "metadata": {},
     "output_type": "execute_result"
    }
   ],
   "source": [
    "rep_tf = pnd.DataFrame()\n",
    "rep_tf['Consulta'] = consultas\n",
    "rep_tf['Documento'] = documento_top5_tf\n",
    "rep_tf['Titulo Documento'] = titulos_tf\n",
    "rep_tf['TF Pontuacao'] = pontuacao_tf_top5\n",
    "\n",
    "rep_tf.index += 1\n",
    "rep_tf"
   ]
  },
  {
   "cell_type": "markdown",
   "metadata": {
    "colab_type": "text",
    "id": "grUZsZAN6FdT"
   },
   "source": [
    "#### TF-IDF"
   ]
  },
  {
   "cell_type": "code",
   "execution_count": 117,
   "metadata": {
    "colab": {
     "base_uri": "https://localhost:8080/",
     "height": 142
    },
    "colab_type": "code",
    "id": "DoPKlPck2Lw0",
    "outputId": "54f86fa2-87c6-4ff2-b0cd-63cdb6095f40"
   },
   "outputs": [
    {
     "data": {
      "text/html": [
       "<div>\n",
       "<style scoped>\n",
       "    .dataframe tbody tr th:only-of-type {\n",
       "        vertical-align: middle;\n",
       "    }\n",
       "\n",
       "    .dataframe tbody tr th {\n",
       "        vertical-align: top;\n",
       "    }\n",
       "\n",
       "    .dataframe thead th {\n",
       "        text-align: right;\n",
       "    }\n",
       "</style>\n",
       "<table border=\"1\" class=\"dataframe\">\n",
       "  <thead>\n",
       "    <tr style=\"text-align: right;\">\n",
       "      <th></th>\n",
       "      <th>Consulta</th>\n",
       "      <th>Documento</th>\n",
       "      <th>Titulo Documento</th>\n",
       "      <th>TFIDF Pontuacao</th>\n",
       "    </tr>\n",
       "  </thead>\n",
       "  <tbody>\n",
       "    <tr>\n",
       "      <th>1</th>\n",
       "      <td>economia</td>\n",
       "      <td>138</td>\n",
       "      <td>Estatal espanhola fica com aeroportos do Norde...</td>\n",
       "      <td>11.41</td>\n",
       "    </tr>\n",
       "    <tr>\n",
       "      <th>2</th>\n",
       "      <td>neymar</td>\n",
       "      <td>121</td>\n",
       "      <td>“Bonucci diz o que muita gente pensa: os negro...</td>\n",
       "      <td>8.84</td>\n",
       "    </tr>\n",
       "    <tr>\n",
       "      <th>3</th>\n",
       "      <td>bolsonaro</td>\n",
       "      <td>151</td>\n",
       "      <td>Socialismo ‘millennial’ nos EUA</td>\n",
       "      <td>42.24</td>\n",
       "    </tr>\n",
       "  </tbody>\n",
       "</table>\n",
       "</div>"
      ],
      "text/plain": [
       "    Consulta  Documento                                   Titulo Documento  \\\n",
       "1   economia        138  Estatal espanhola fica com aeroportos do Norde...   \n",
       "2     neymar        121  “Bonucci diz o que muita gente pensa: os negro...   \n",
       "3  bolsonaro        151                    Socialismo ‘millennial’ nos EUA   \n",
       "\n",
       "   TFIDF Pontuacao  \n",
       "1            11.41  \n",
       "2             8.84  \n",
       "3            42.24  "
      ]
     },
     "execution_count": 117,
     "metadata": {},
     "output_type": "execute_result"
    }
   ],
   "source": [
    "rep_tf_idf = pnd.DataFrame()\n",
    "rep_tf_idf['Consulta'] = consultas\n",
    "rep_tf_idf['Documento'] = documento_top5_tf_idf\n",
    "rep_tf_idf['Titulo Documento'] = titulos_tf_idf\n",
    "rep_tf_idf['TFIDF Pontuacao'] = pontuacao_tf_idf_top5\n",
    "\n",
    "rep_tf_idf.index += 1\n",
    "rep_tf_idf"
   ]
  },
  {
   "cell_type": "markdown",
   "metadata": {
    "colab_type": "text",
    "id": "VYWXQ2HV6HTi"
   },
   "source": [
    "#### BM-25"
   ]
  },
  {
   "cell_type": "code",
   "execution_count": 118,
   "metadata": {
    "colab": {
     "base_uri": "https://localhost:8080/",
     "height": 142
    },
    "colab_type": "code",
    "id": "DamyDlh12MPE",
    "outputId": "17bf1e4d-75f1-4587-f28a-82b56ef72a8b"
   },
   "outputs": [
    {
     "data": {
      "text/html": [
       "<div>\n",
       "<style scoped>\n",
       "    .dataframe tbody tr th:only-of-type {\n",
       "        vertical-align: middle;\n",
       "    }\n",
       "\n",
       "    .dataframe tbody tr th {\n",
       "        vertical-align: top;\n",
       "    }\n",
       "\n",
       "    .dataframe thead th {\n",
       "        text-align: right;\n",
       "    }\n",
       "</style>\n",
       "<table border=\"1\" class=\"dataframe\">\n",
       "  <thead>\n",
       "    <tr style=\"text-align: right;\">\n",
       "      <th></th>\n",
       "      <th>Consulta</th>\n",
       "      <th>Documento</th>\n",
       "      <th>Titulo Documento</th>\n",
       "      <th>BM25 Pontuacao</th>\n",
       "    </tr>\n",
       "  </thead>\n",
       "  <tbody>\n",
       "    <tr>\n",
       "      <th>1</th>\n",
       "      <td>economia</td>\n",
       "      <td>138</td>\n",
       "      <td>Estatal espanhola fica com aeroportos do Norde...</td>\n",
       "      <td>3.85</td>\n",
       "    </tr>\n",
       "    <tr>\n",
       "      <th>2</th>\n",
       "      <td>neymar</td>\n",
       "      <td>121</td>\n",
       "      <td>“Bonucci diz o que muita gente pensa: os negro...</td>\n",
       "      <td>3.67</td>\n",
       "    </tr>\n",
       "    <tr>\n",
       "      <th>3</th>\n",
       "      <td>bolsonaro</td>\n",
       "      <td>151</td>\n",
       "      <td>Socialismo ‘millennial’ nos EUA</td>\n",
       "      <td>7.39</td>\n",
       "    </tr>\n",
       "  </tbody>\n",
       "</table>\n",
       "</div>"
      ],
      "text/plain": [
       "    Consulta  Documento                                   Titulo Documento  \\\n",
       "1   economia        138  Estatal espanhola fica com aeroportos do Norde...   \n",
       "2     neymar        121  “Bonucci diz o que muita gente pensa: os negro...   \n",
       "3  bolsonaro        151                    Socialismo ‘millennial’ nos EUA   \n",
       "\n",
       "   BM25 Pontuacao  \n",
       "1            3.85  \n",
       "2            3.67  \n",
       "3            7.39  "
      ]
     },
     "execution_count": 118,
     "metadata": {},
     "output_type": "execute_result"
    }
   ],
   "source": [
    "rep_bm25 = pnd.DataFrame()\n",
    "rep_bm25['Consulta'] = consultas\n",
    "rep_bm25['Documento'] = documento_top5_bm25\n",
    "rep_bm25['Titulo Documento'] = titulos_bm25\n",
    "rep_bm25['BM25 Pontuacao'] = pontuacao_bm25_top5\n",
    "\n",
    "rep_bm25.index += 1\n",
    "rep_bm25"
   ]
  },
  {
   "cell_type": "markdown",
   "metadata": {
    "colab_type": "text",
    "id": "gO_AQtbr6fna"
   },
   "source": [
    "Como podemos ver, TF-IDF e BM25 mostraram resultados similares, esses também foram os melhores.\n",
    "\n",
    "Para 'economia', obtivemos:\n",
    "'Estatal espanhola fica com aeroportos do Nordeste em leilão positivo para Bolsonaro'\n",
    "\n",
    "Para 'neymar', obtivemos:\n",
    "'Bonucci diz o que muita gente pensa: os negros merecem o que acontece com eles'\n",
    "\n",
    "Para 'bolsonaro', obtivemos:\n",
    "'Socialismo ‘millennial’ nos EUA,A temida palavra ‘socialista’ já não é mais tabu entre os jovens do país.'\n",
    "\n",
    "\n",
    "TF-IDF mostrou melhores resultados."
   ]
  },
  {
   "cell_type": "markdown",
   "metadata": {
    "colab_type": "text",
    "id": "ihDNaq-IzsjJ"
   },
   "source": [
    "### 5.2. Calcule e reporte o overlap par-a-par entre os resultados de cada modelo (usando o índice de Jaccard)"
   ]
  },
  {
   "cell_type": "code",
   "execution_count": 119,
   "metadata": {
    "colab": {},
    "colab_type": "code",
    "id": "goRif3io9hYg"
   },
   "outputs": [],
   "source": [
    "def inter_size(a,b):\n",
    "  return len([elem for elem in a if elem in b])\n",
    "\n",
    "def indice_jaccard(a,b):\n",
    "  n_a = len(a)\n",
    "  n_b = len(b)\n",
    "  n_ab = inter_size(a,b)\n",
    "  exp = n_a + n_b - n_ab\n",
    "  jaccard = n_ab / exp if exp != 0 else 0\n",
    "  return jaccard"
   ]
  },
  {
   "cell_type": "code",
   "execution_count": 120,
   "metadata": {
    "colab": {
     "base_uri": "https://localhost:8080/",
     "height": 204
    },
    "colab_type": "code",
    "id": "7_KZEYzp-OmD",
    "outputId": "09524ba1-e714-45db-814d-bef40bd643d4"
   },
   "outputs": [
    {
     "data": {
      "text/html": [
       "<div>\n",
       "<style scoped>\n",
       "    .dataframe tbody tr th:only-of-type {\n",
       "        vertical-align: middle;\n",
       "    }\n",
       "\n",
       "    .dataframe tbody tr th {\n",
       "        vertical-align: top;\n",
       "    }\n",
       "\n",
       "    .dataframe thead th {\n",
       "        text-align: right;\n",
       "    }\n",
       "</style>\n",
       "<table border=\"1\" class=\"dataframe\">\n",
       "  <thead>\n",
       "    <tr style=\"text-align: right;\">\n",
       "      <th></th>\n",
       "      <th>0</th>\n",
       "      <th>1</th>\n",
       "      <th>2</th>\n",
       "      <th>3</th>\n",
       "      <th>4</th>\n",
       "    </tr>\n",
       "  </thead>\n",
       "  <tbody>\n",
       "    <tr>\n",
       "      <th>0</th>\n",
       "      <td>Measure</td>\n",
       "      <td>Binary</td>\n",
       "      <td>TF</td>\n",
       "      <td>TF-IDF</td>\n",
       "      <td>BM25</td>\n",
       "    </tr>\n",
       "    <tr>\n",
       "      <th>1</th>\n",
       "      <td>Binary</td>\n",
       "      <td>1</td>\n",
       "      <td>0.2</td>\n",
       "      <td>0.2</td>\n",
       "      <td>0.2</td>\n",
       "    </tr>\n",
       "    <tr>\n",
       "      <th>2</th>\n",
       "      <td>TF</td>\n",
       "      <td>0.2</td>\n",
       "      <td>1</td>\n",
       "      <td>1</td>\n",
       "      <td>1</td>\n",
       "    </tr>\n",
       "    <tr>\n",
       "      <th>3</th>\n",
       "      <td>TF-IDF</td>\n",
       "      <td>0.2</td>\n",
       "      <td>1</td>\n",
       "      <td>1</td>\n",
       "      <td>1</td>\n",
       "    </tr>\n",
       "    <tr>\n",
       "      <th>4</th>\n",
       "      <td>BM25</td>\n",
       "      <td>0.2</td>\n",
       "      <td>1</td>\n",
       "      <td>1</td>\n",
       "      <td>1</td>\n",
       "    </tr>\n",
       "  </tbody>\n",
       "</table>\n",
       "</div>"
      ],
      "text/plain": [
       "         0       1    2       3     4\n",
       "0  Measure  Binary   TF  TF-IDF  BM25\n",
       "1   Binary       1  0.2     0.2   0.2\n",
       "2       TF     0.2    1       1     1\n",
       "3   TF-IDF     0.2    1       1     1\n",
       "4     BM25     0.2    1       1     1"
      ]
     },
     "execution_count": 120,
     "metadata": {},
     "output_type": "execute_result"
    }
   ],
   "source": [
    "todos_documentos = []\n",
    "todos_documentos.append(documento_top5_binario)\n",
    "todos_documentos.append(documento_top5_bm25)\n",
    "todos_documentos.append(documento_top5_tf)\n",
    "todos_documentos.append(documento_top5_tf_idf)\n",
    "\n",
    "matriz = [['Measure', 'Binary', 'TF', 'TF-IDF', 'BM25']]\n",
    "\n",
    "for i in range(len(todos_documentos)):\n",
    "  line = []\n",
    "  for j in range(len(todos_documentos)):\n",
    "    jaccard = indice_jaccard(todos_documentos[i], todos_documentos[j])\n",
    "    line.append(round(jaccard,2))\n",
    "  matriz.append(line)\n",
    "for i in range(1, len(matriz)):\n",
    "  matriz[i].insert(0, matriz[0][i])\n",
    "  \n",
    "pnd.DataFrame(matriz)"
   ]
  },
  {
   "cell_type": "markdown",
   "metadata": {
    "colab_type": "text",
    "id": "OCqZGrnnASki"
   },
   "source": []
  }
 ],
 "metadata": {
  "colab": {
   "collapsed_sections": [],
   "include_colab_link": true,
   "name": "modelo_vetorial",
   "provenance": [],
   "version": "0.3.2"
  },
  "kernelspec": {
   "display_name": "Python 3",
   "language": "python",
   "name": "python3"
  },
  "language_info": {
   "codemirror_mode": {
    "name": "ipython",
    "version": 3
   },
   "file_extension": ".py",
   "mimetype": "text/x-python",
   "name": "python",
   "nbconvert_exporter": "python",
   "pygments_lexer": "ipython3",
   "version": "3.7.1"
  }
 },
 "nbformat": 4,
 "nbformat_minor": 1
}
